{
  "nbformat": 4,
  "nbformat_minor": 0,
  "metadata": {
    "colab": {
      "provenance": []
    },
    "kernelspec": {
      "name": "python3",
      "display_name": "Python 3"
    },
    "language_info": {
      "name": "python"
    }
  },
  "cells": [
    {
      "cell_type": "code",
      "source": [
        "\n",
        "def keisan(nedan,zeikin):\n",
        "  return nedan + (nedan * zeikin)/100\n",
        "\n",
        "print(keisan(1000,10))\n",
        "\n",
        "\n",
        "print(keisan(1200,10))"
      ],
      "metadata": {
        "colab": {
          "base_uri": "https://localhost:8080/"
        },
        "id": "JITDlw2qqp6W",
        "outputId": "e62bf2e9-1c12-48b8-e85e-a167a5e8c42e"
      },
      "execution_count": 89,
      "outputs": [
        {
          "output_type": "stream",
          "name": "stdout",
          "text": [
            "1100.0\n",
            "1320.0\n"
          ]
        }
      ]
    }
  ]
}