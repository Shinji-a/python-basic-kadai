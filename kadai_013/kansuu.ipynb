{
  "nbformat": 4,
  "nbformat_minor": 0,
  "metadata": {
    "colab": {
      "provenance": []
    },
    "kernelspec": {
      "name": "python3",
      "display_name": "Python 3"
    },
    "language_info": {
      "name": "python"
    }
  },
  "cells": [
    {
      "cell_type": "code",
      "source": [
        "def keisan(nedan,zeikin):\n",
        "  goukei = nedan * zeikin\n",
        "  print(f\"{goukei}円\")\n",
        "\n",
        "keisan(1000,1.10)"
      ],
      "metadata": {
        "colab": {
          "base_uri": "https://localhost:8080/"
        },
        "id": "CFtmCZxsnAoI",
        "outputId": "047c8aee-b658-45da-9c46-4227aa5f85ef"
      },
      "execution_count": 58,
      "outputs": [
        {
          "output_type": "stream",
          "name": "stdout",
          "text": [
            "1100.0円\n"
          ]
        }
      ]
    }
  ]
}