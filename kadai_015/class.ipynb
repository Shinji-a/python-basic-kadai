{
  "nbformat": 4,
  "nbformat_minor": 0,
  "metadata": {
    "colab": {
      "provenance": []
    },
    "kernelspec": {
      "name": "python3",
      "display_name": "Python 3"
    },
    "language_info": {
      "name": "python"
    }
  },
  "cells": [
    {
      "cell_type": "code",
      "source": [
        "#クラス定義の際コンストラクタを使用\n",
        "class Human:\n",
        "    def __init__(self, name, age):\n",
        "        self.name = name\n",
        "        self.age = age\n",
        "\n",
        "    # 標準出力するメソッド(printinfo)\n",
        "    def printinfo(self):\n",
        "        print(self.name ,self.age)\n",
        "\n",
        "# インスタンス化する\n",
        "classmate = Human(\"太郎\",12)\n",
        "\n",
        "# 標準出力するメソッドを利用\n",
        "classmate.printinfo()\n"
      ],
      "metadata": {
        "colab": {
          "base_uri": "https://localhost:8080/"
        },
        "id": "EcHoDPrYvseT",
        "outputId": "2ef592f2-36ba-4f0a-c475-854ad054e398"
      },
      "execution_count": 130,
      "outputs": [
        {
          "output_type": "stream",
          "name": "stdout",
          "text": [
            "太郎 12\n"
          ]
        }
      ]
    }
  ]
}